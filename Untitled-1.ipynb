{
 "cells": [
  {
   "cell_type": "markdown",
   "metadata": {},
   "source": [
    "# Ejercicio 9\n",
    "Los números telefónicos en la ciudad de Cuernavaca, Morelos, constan de siete dígitos\n",
    "\n",
    "**a)** ¿Cuántas líneas telefónicas pueden crearse en esa ciudad? Recuerda que no pueden comen\n",
    "zar con cero.\n",
    "\n",
    "**b)** Si los tres primeros dígitos representan una zona de Cuernavaca, ¿cuántas líneas telefónicas pertenecen a la zona 326?"
   ]
  },
  {
   "cell_type": "markdown",
   "metadata": {},
   "source": [
    "# Ejercicio \n",
    "Se tiene la palabra MURCIÉLAGO. Si no se permiten repeticiones al usar las letras que la forman, determina:\n",
    "\n",
    "**a)** El número de palabras que puedes crear.\n",
    "\n",
    "**b)** El número de palabras con cinco letras.\n",
    "\n",
    "**c)** La probabilidad de que una palabra de cinco letras termine en vocal"
   ]
  },
  {
   "cell_type": "markdown",
   "metadata": {},
   "source": [
    "# Ejercicio 11\n",
    " La Ciudad de México tiene placas de automóviles con tres números seguidos por tres letras, es decir, son placas del tipo 999-AAA. Sin embargo, no pueden empezar con 0 (cero) ni se utilizan las letras I, O, Q y Ñ.\n",
    "\n",
    "**a)** ¿Cuántas placas diferentes son posibles?\n",
    "**b)** ¿Cuántas placas diferentes terminan en vocal?\n",
    "**c)** ¿Cuál es la probabilidad de que una placa, elegida al azar, sea impar?\n"
   ]
  },
  {
   "cell_type": "markdown",
   "metadata": {},
   "source": [
    "# Ejercicio 12"
   ]
  },
  {
   "cell_type": "markdown",
   "metadata": {},
   "source": [
    "# Ejercicio 13"
   ]
  },
  {
   "cell_type": "markdown",
   "metadata": {},
   "source": []
  },
  {
   "cell_type": "code",
   "execution_count": 13,
   "metadata": {},
   "outputs": [
    {
     "name": "stdout",
     "output_type": "stream",
     "text": [
      "a)  40320\n",
      "b)  4320\n",
      "c)  144\n",
      "d) Probabilidad de b 10.714285714285714\n",
      "d) Probabilidad de c 0.35714285714285715\n"
     ]
    }
   ],
   "source": []
  },
  {
   "cell_type": "markdown",
   "metadata": {},
   "source": [
    "# Ejercicio 14"
   ]
  },
  {
   "cell_type": "markdown",
   "metadata": {},
   "source": []
  },
  {
   "cell_type": "code",
   "execution_count": 31,
   "metadata": {},
   "outputs": [
    {
     "name": "stdout",
     "output_type": "stream",
     "text": [
      "a) 330\n",
      "b) 150\n",
      "c) 15\n",
      "d) 60\n",
      "e) Porbabilidad de a 100.0\n",
      "e) Porbabilidad de b 45.45454545454545\n",
      "e) Porbabilidad de c 4.545454545454546\n",
      "e) Porbabilidad de d 18.181818181818183\n"
     ]
    }
   ],
   "source": []
  },
  {
   "cell_type": "markdown",
   "metadata": {},
   "source": [
    "# Ejercicio 15"
   ]
  },
  {
   "cell_type": "markdown",
   "metadata": {},
   "source": []
  },
  {
   "cell_type": "code",
   "execution_count": 32,
   "metadata": {},
   "outputs": [
    {
     "name": "stdout",
     "output_type": "stream",
     "text": [
      "a) 720\n",
      "b) 144\n",
      "c) 48\n",
      "d) Probabilidad del a 100.0\n",
      "d) Probabilidad del b  20.0\n",
      "d) Probabilidad del c  6.666666666666667\n"
     ]
    }
   ],
   "source": []
  },
  {
   "cell_type": "markdown",
   "metadata": {},
   "source": [
    "# Ejercicio 16"
   ]
  },
  {
   "cell_type": "markdown",
   "metadata": {},
   "source": [
    "# Ejercicio 17"
   ]
  }
 ],
 "metadata": {
  "kernelspec": {
   "display_name": "Python 3",
   "language": "python",
   "name": "python3"
  },
  "language_info": {
   "codemirror_mode": {
    "name": "ipython",
    "version": 3
   },
   "file_extension": ".py",
   "mimetype": "text/x-python",
   "name": "python",
   "nbconvert_exporter": "python",
   "pygments_lexer": "ipython3",
   "version": "3.11.4"
  }
 },
 "nbformat": 4,
 "nbformat_minor": 2
}
