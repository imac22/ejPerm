{
 "cells": [
  {
   "cell_type": "markdown",
   "metadata": {},
   "source": [
    "# Ejercicio 9\n",
    "Los números telefónicos en la ciudad de Cuernavaca, Morelos, constan de siete dígitos\n",
    "\n",
    "**a)** ¿Cuántas líneas telefónicas pueden crearse en esa ciudad? Recuerda que no pueden comen\n",
    "zar con cero.\n",
    "\n",
    "**b)** Si los tres primeros dígitos representan una zona de Cuernavaca, ¿cuántas líneas telefónicas pertenecen a la zona 326?"
   ]
  },
  {
   "cell_type": "code",
   "execution_count": 1,
   "metadata": {},
   "outputs": [
    {
     "name": "stdout",
     "output_type": "stream",
     "text": [
      "a) Número total de líneas telefónicas que se pueden crear en Cuernavaca: 9000000\n",
      "b) Número de líneas telefónicas que pertenecen a la zona 326: 10000\n"
     ]
    }
   ],
   "source": [
    "from math import factorial\n",
    "\n",
    "# a) Número de líneas telefónicas que se pueden crear en Cuernavaca\n",
    "num_digitos = 7\n",
    "num_lineas_telefonicas = (10 ** num_digitos) - (10 ** (num_digitos - 1))\n",
    "print(f\"a) Número total de líneas telefónicas que se pueden crear en Cuernavaca: {num_lineas_telefonicas}\")\n",
    "\n",
    "# b) Número de líneas telefónicas que pertenecen a la zona 326\n",
    "zona = 326\n",
    "num_lineas_zona_326 = 10 ** (num_digitos - 3)\n",
    "print(f\"b) Número de líneas telefónicas que pertenecen a la zona 326: {num_lineas_zona_326 }\")\n"
   ]
  },
  {
   "cell_type": "markdown",
   "metadata": {},
   "source": [
    "# Ejercicio 10\n",
    "Se tiene la palabra MURCIÉLAGO. Si no se permiten repeticiones al usar las letras que la forman, determina:\n",
    "\n",
    "**a)** El número de palabras que puedes crear.\n",
    "\n",
    "**b)** El número de palabras con cinco letras.\n",
    "\n",
    "**c)** La probabilidad de que una palabra de cinco letras termine en vocal"
   ]
  },
  {
   "cell_type": "code",
   "execution_count": 2,
   "metadata": {},
   "outputs": [
    {
     "name": "stdout",
     "output_type": "stream",
     "text": [
      "a): 3628800\n",
      "b): 30240\n",
      "c): 0.42%\n"
     ]
    }
   ],
   "source": [
    "import math as m\n",
    "letras = 10\n",
    "k = 4\n",
    "palb = \"MURCIÉLAGO\"\n",
    "\n",
    "a = factorial(len(palb))\n",
    "b = m.factorial(len(palb)) // m.factorial(len(palb) - 5)\n",
    "p = 9 * 8 * 7 * 6 * 5\n",
    "t = 3628800\n",
    "c = (100 / t) * p\n",
    "\n",
    "print(\"a):\",a)\n",
    "print(\"b):\",b)\n",
    "print(f\"c): {c:.2f}%\")"
   ]
  },
  {
   "cell_type": "markdown",
   "metadata": {},
   "source": [
    "# Ejercicio 11"
   ]
  },
  {
   "cell_type": "markdown",
   "metadata": {},
   "source": [
    "11. Parque vehicular. La Ciudad de México tiene placas de automóviles con tres números seguidos por tres letras, es decir, son placas del tipo 999-AAA. Sin embargo, no pueden empezar con 0 (cero) ni se utilizan las letras I, O, Q y Ñ.\n",
    "\n",
    "a) ¿Cuántas placas diferentes son posibles?\n",
    "\n",
    "b) ¿Cuántas placas diferentes terminan en vocal?\n",
    "\n",
    "c) ¿Cuál es la probabilidad de que una placa, elegida al azar, sea impar?\n",
    "\n",
    "d) De acuerdo con el resultado obtenido en el inciso (a), abre un debate acerca de las consecuencias que traería consigo tener ese número de vehículos circulando en la ciudad. Además, realicen propuestas para mejorar los problemas de circulación vial que se viven en las grandes ciudades."
   ]
  },
  {
   "cell_type": "code",
   "execution_count": 3,
   "metadata": {},
   "outputs": [
    {
     "name": "stdout",
     "output_type": "stream",
     "text": [
      "a): 7762392\n",
      "b): 24565\n",
      "c): 0.0016%\n"
     ]
    }
   ],
   "source": [
    "import math as m\n",
    "\n",
    "n = 9 ** 3\n",
    "letras = 22 ** 3\n",
    "a = n * letras\n",
    "\n",
    "\n",
    "vocales = ['A', 'E', 'I', 'O', 'U']\n",
    "nCons = 22 - len(vocales)\n",
    "b = len(vocales) * nCons ** 3\n",
    "\n",
    "\n",
    "digitos_impares = 5 ** 3\n",
    "c = (digitos_impares / a) * 100\n",
    "\n",
    "\n",
    "print(\"a):\",a)\n",
    "print(\"b):\",b)\n",
    "print(f\"c): {c:.4f}%\")"
   ]
  },
  {
   "cell_type": "markdown",
   "metadata": {},
   "source": [
    "# Ejercicio 12"
   ]
  },
  {
   "cell_type": "markdown",
   "metadata": {},
   "source": [
    "12. Serviciosrestauranteros.Unacadenadehamburguesasanunciaqueseofrecen512manerasde pedir una hamburguesa. Un cliente puede elegir cualquiera de estos ingredientes: cátsup, mostaza, mayonesa, aderezo de la casa, cebolla, pepinillos, jitomate, tocino y lechuga. ¿Crees que lo que afirma la empresa sea cierto? Justifica tu respuesta."
   ]
  },
  {
   "cell_type": "code",
   "execution_count": 4,
   "metadata": {},
   "outputs": [
    {
     "name": "stdout",
     "output_type": "stream",
     "text": [
      "Combinaciones: 512\n"
     ]
    }
   ],
   "source": [
    "from math import factorial\n",
    "\n",
    "def com(n, r):\n",
    "    return factorial(n) // (factorial(r) * factorial(n-r))\n",
    "\n",
    "to_com = 0\n",
    "for r in range(10):\n",
    "    to_com += com(9, r)\n",
    "print(f\"Combinaciones: {int(to_com)}\")"
   ]
  },
  {
   "cell_type": "markdown",
   "metadata": {},
   "source": [
    "# Ejercicio 13"
   ]
  },
  {
   "cell_type": "markdown",
   "metadata": {},
   "source": [
    "13. Cultura. Una persona tiene un libro de cada uno de los autores siguientes: Mario Vargas Llosa, Alberto Ruy Sánchez, Gabriel García Márquez, Günther Grass, Patrick Süskind, Heinrich Böll, Arturo Pérez-Reverte y Camilo José Cela. Como aún no los ha leído, quiere ponerlos en una repisa cerca de su cama. De acuerdo con esto, determina:\n",
    "\n",
    "a) ¿De cuántas formas puede acomodar los libros sobre la repisa?\n",
    "\n",
    "b) ¿De cuántas maneras puede ordenar los si quiere que los libros deautores latinoamericanos\n",
    "estén juntos?\n",
    "\n",
    "c) ¿De cuántas formas puede acomodarlos, si los autores latinoamericanos deben estar juntos,\n",
    "así como los autores alemanes y los españoles también?\n",
    "\n",
    "d) Determina las probabilidades correspondientes a los incisos (b) y (c).\n",
    "\n",
    "e) Lee esta frase, de John Ernest Steinbeck: “Por el grosor del polvo en los libros de una biblioteca pública puede medirse la cultura de un pueblo”.\n",
    "Organiza con tus compañeros de clase una mesa redonda y expongan sus puntos de vista sobre la lectura y el desarrollo de un pueblo. ¿A qué conclusiones llegan?"
   ]
  },
  {
   "cell_type": "code",
   "execution_count": 5,
   "metadata": {},
   "outputs": [
    {
     "name": "stdout",
     "output_type": "stream",
     "text": [
      "a)  40320\n",
      "b)  4320\n",
      "c)  432\n",
      "d) Probabilidad de b 0.10714285714285714\n",
      "d) Probabilidad de c 0.010714285714285714\n"
     ]
    }
   ],
   "source": [
    "import math as m\n",
    "\n",
    "a = m.factorial(8)\n",
    "b = m.factorial(6) * m.factorial(3)\n",
    "c = m.factorial(3) * (m.factorial(3) * m.factorial(2) * m.factorial(3))\n",
    "d1 = b / a\n",
    "d2 = c / a\n",
    "\n",
    "print(\"a) \", a)\n",
    "\n",
    "print(\"b) \",b)\n",
    "\n",
    "\n",
    "print(\"c) \", c)\n",
    "\n",
    "print(\"d) Probabilidad de b\", d1)\n",
    "\n",
    "print(\"d) Probabilidad de c\", d2)\n",
    "\n"
   ]
  },
  {
   "cell_type": "markdown",
   "metadata": {},
   "source": [
    "# Ejercicio 14"
   ]
  },
  {
   "cell_type": "markdown",
   "metadata": {},
   "source": [
    "14. Finanzas. Se va a formar un portafolio de inversión de cuatro instrumentos financieros a partir de cinco de renta fija y seis de renta variable. ¿De cuántas maneras podría formarse el portafolio si:\n",
    "\n",
    "a) No hay restricciones?\n",
    "\n",
    "b) Debe haber dos instrumentos de renta fija y dos de renta variable?\n",
    "\n",
    "c) No debe haber ningún instrumento de renta fija?\n",
    "\n",
    "d) Debe haber tres instrumentos de renta fija?\n",
    "\n",
    "e) Calcula las probabilidades para los incisos anteriores.\n",
    "\n",
    "f) Investiga qué es un instrumento de renta fija y otro de renta variable.\n",
    "\n",
    "g) Reflexiona sobre la importancia del ahorro y comparte con tus compañeros de clase las\n",
    "conclusiones a las que llegaste."
   ]
  },
  {
   "cell_type": "code",
   "execution_count": 6,
   "metadata": {},
   "outputs": [
    {
     "name": "stdout",
     "output_type": "stream",
     "text": [
      "a) 330\n",
      "b) 150\n",
      "c) 15\n",
      "d) 60\n",
      "e) Porbabilidad de a 1.0\n",
      "e) Porbabilidad de b 0.45454545454545453\n",
      "e) Porbabilidad de c 0.045454545454545456\n",
      "e) Porbabilidad de d 0.18181818181818182\n"
     ]
    }
   ],
   "source": [
    "a = m.comb(11, 4)\n",
    "b = m.comb(5, 2) * m.comb(6, 2)\n",
    "c = m.comb(6, 4)\n",
    "d = m.comb(5, 3) * m.comb(6, 1)\n",
    "e1 =  (a / a)\n",
    "e2 =  (b / a)\n",
    "e3 =  (c / a)\n",
    "e4 =  (d / a)\n",
    "\n",
    "\n",
    "print(\"a)\", a)\n",
    "print(\"b)\", b)\n",
    "print(\"c)\", c)\n",
    "print(\"d)\", d)\n",
    "print(\"e) Probabilidad de a\", e1)\n",
    "print(\"e) Probabilidad de b\", e2)\n",
    "print(\"e) Probabilidad de c\", e3)\n",
    "print(\"e) Probabilidad de d\", e4)\n"
   ]
  },
  {
   "cell_type": "markdown",
   "metadata": {},
   "source": [
    "# Ejercicio 15"
   ]
  },
  {
   "cell_type": "markdown",
   "metadata": {},
   "source": [
    "15. Futbol. Tres parejas (tres hombres y tres mujeres) compran boletos para ir a un partido de los Pumas. Cuando llegan al estadio de Ciudad Universitaria les surge la duda de cómo sentarse en la fila. ¿De cuántas maneras pueden hacerlo si:\n",
    "\n",
    "a) No hay restricciones?\n",
    "\n",
    "b) Los hombres deben sentarse juntos?\n",
    "\n",
    "c) Deben sentarse por parejas?\n",
    "\n",
    "d) ¿Cuál es la probabilidad de cada uno de los eventos descritos en los incisos anteriores?\n",
    "\n",
    "e) ¿Crees que el futbol es un deporte sólo para hombres? Discútelo con tus compañeros de clase."
   ]
  },
  {
   "cell_type": "code",
   "execution_count": 7,
   "metadata": {},
   "outputs": [
    {
     "name": "stdout",
     "output_type": "stream",
     "text": [
      "a) 720\n",
      "b) 144\n",
      "c) 48\n",
      "d) Probabilidad del a 1.0\n",
      "d) Probabilidad del b  0.2\n",
      "d) Probabilidad del c  0.06666666666666667\n"
     ]
    }
   ],
   "source": [
    "a = m.factorial(6)\n",
    "b = m.factorial(4) * m.factorial(3)\n",
    "c = m.factorial(3) * 2 * 2 * 2\n",
    "d1 = (a / a)\n",
    "d2 = (b / a)\n",
    "d3 = (c / a) \n",
    "\n",
    "print(\"a)\", a)\n",
    "print(\"b)\", b)\n",
    "print(\"c)\", c)\n",
    "print(\"d) Probabilidad del a\", d1)\n",
    "print(\"d) Probabilidad del b \", d2)\n",
    "print(\"d) Probabilidad del c \", d3)\n"
   ]
  },
  {
   "cell_type": "markdown",
   "metadata": {},
   "source": [
    "# Ejercicio 16\n",
    "En un grupo de 25 alumnos hay 13 chicas y 12 chicos. Se desean formar equipos de trabajo para realizar una investigación\n",
    "\n",
    "**a)** ¿Cuántos equipos de cinco personas pueden formarse?\n",
    "\n",
    "**b)** ¿Cuántos equipos pueden formarse si debe haber una chica?\n",
    "\n",
    "**c)** ¿Cuántos equipos pueden formarse si debe haber dos chicas?\n",
    "\n",
    "**d)** Determina las probabilidades correspondientes a los incisos anteriores"
   ]
  },
  {
   "cell_type": "code",
   "execution_count": 2,
   "metadata": {},
   "outputs": [
    {
     "name": "stdout",
     "output_type": "stream",
     "text": [
      "a) 53130\n",
      "b) 6435\n",
      "c) 17160\n",
      "d) 1.0\n",
      "d) 0.12111801242236025\n",
      "d) 0.32298136645962733\n"
     ]
    }
   ],
   "source": [
    "import math\n",
    "n = 25\n",
    "k = 5\n",
    "ejeA = math.comb(n, k)\n",
    "print(\"a)\",ejeA)\n",
    "\n",
    "ejeB = math.comb(13, 1) * math.comb(12, 4)\n",
    "print(\"b)\",ejeB)\n",
    "\n",
    "ejeC = math.comb(13, 2) * math.comb(12, 3)\n",
    "print(\"c)\",ejeC)\n",
    "\n",
    "ejeDA = ejeA / ejeA\n",
    "ejeDB = ejeB / ejeA\n",
    "ejeDC = ejeC / ejeA\n",
    "print(\"d)\",ejeDA)\n",
    "print(\"d)\",ejeDB)\n",
    "print(\"d)\",ejeDC)"
   ]
  },
  {
   "cell_type": "markdown",
   "metadata": {},
   "source": [
    "# Ejercicio 17\n",
    " Se tiene una caja con 24 latas y se sabe que dos están contaminadas. Se van a seleccionar tres latas al azar para someterlas a una prueba de control de calidad, es decir, para \n",
    "medir los estándares de calidad de la empresa\n",
    "\n",
    "**a)** ¿Cuántas combinaciones de tres latas pueden hacerse?\n",
    "\n",
    "**b)** ¿Cuál es la probabilidad de que se seleccione una lata contaminada para la prueba?\n",
    "\n",
    "**c)** ¿Cuál es la probabilidad de que se seleccione al menos una lata contaminada para la prueba?\n",
    "\n",
    "**d)** ¿Y la probabilidad de que no se elijan latas contaminadas para la prueba?"
   ]
  },
  {
   "cell_type": "code",
   "execution_count": 16,
   "metadata": {},
   "outputs": [
    {
     "name": "stdout",
     "output_type": "stream",
     "text": [
      "a) 2024\n",
      "b) 0.22826086956521738\n",
      "c) 0.23913043478260868\n",
      "d) 0.7608695652173914\n"
     ]
    }
   ],
   "source": [
    "import math as v\n",
    "n, k= 24, 3\n",
    "a = v.comb(n, k)\n",
    "print(\"a)\",a)\n",
    "\n",
    "b = v.comb(22, 2) * v.comb(2, 1)\n",
    "pB = b / a\n",
    "print(\"b)\",pB)\n",
    "\n",
    "c = v.comb(22, 1) * v.comb(2, 2)\n",
    "pC = (c / a)\n",
    "print(\"c)\",pC+pB)\n",
    "\n",
    "d = v.comb(22, 3) * v.comb(2, 0)\n",
    "pD = d / a\n",
    "print(\"d)\",pD)"
   ]
  }
 ],
 "metadata": {
  "kernelspec": {
   "display_name": "Python 3",
   "language": "python",
   "name": "python3"
  },
  "language_info": {
   "codemirror_mode": {
    "name": "ipython",
    "version": 3
   },
   "file_extension": ".py",
   "mimetype": "text/x-python",
   "name": "python",
   "nbconvert_exporter": "python",
   "pygments_lexer": "ipython3",
   "version": "3.11.4"
  }
 },
 "nbformat": 4,
 "nbformat_minor": 2
}
